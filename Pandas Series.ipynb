{
 "cells": [
  {
   "cell_type": "markdown",
   "id": "f0188a76",
   "metadata": {},
   "source": [
    "## Pandas Series:::::::::::::::::::::::::::::::::::::::::::::::::::::::::::::::::::::::::::::::::::::::::::::::::::::::::\n",
    "## 1)A Pandas Series is like a column in a table.\n",
    "## 2)It is a one-dimensional array holding data of any type.\n",
    "## 3)A Series is a one-dimensional labeled array that can hold any data type (integers, floats, strings, etc.). It is similar to a column in a spreadsheet or a traditional array. Each value in a Series is associated with a label or index, which allows for easy access and retrieval of data. You can create a Series using various methods, such as passing a list or an array to the pd.Series() function.\n"
   ]
  },
  {
   "cell_type": "code",
   "execution_count": 4,
   "id": "fb7b72cf",
   "metadata": {},
   "outputs": [],
   "source": [
    "import pandas"
   ]
  },
  {
   "cell_type": "code",
   "execution_count": 6,
   "id": "1f4cb11a",
   "metadata": {},
   "outputs": [
    {
     "name": "stdout",
     "output_type": "stream",
     "text": [
      "0    1\n",
      "1    7\n",
      "2    2\n",
      "dtype: int64\n",
      "1\n"
     ]
    }
   ],
   "source": [
    "import pandas as pd\n",
    "\n",
    "a = [1, 7, 2]\n",
    "\n",
    "myvar = pd.Series(a)\n",
    "\n",
    "print(myvar)\n",
    "\n",
    "print(myvar[0])\n"
   ]
  },
  {
   "cell_type": "code",
   "execution_count": null,
   "id": "bb2a8a1d",
   "metadata": {},
   "outputs": [],
   "source": [
    "'If nothing else is specified, the values are labeled with their index number. First value has index 0, second value has index 1 etc.\n",
    "\n",
    "'This label can be used to access a specified value'\n",
    "\n"
   ]
  },
  {
   "cell_type": "code",
   "execution_count": 9,
   "id": "d5e6cbc4",
   "metadata": {},
   "outputs": [
    {
     "name": "stdout",
     "output_type": "stream",
     "text": [
      "a    1\n",
      "b    2\n",
      "c    3\n",
      "d    4\n",
      "dtype: int64\n"
     ]
    }
   ],
   "source": [
    "import pandas as pd\n",
    "a=[1,2,3,4]\n",
    "mydata=pd.Series(a, index = [\"a\",\"b\",\"c\",\"d\"])\n",
    "print(mydata)"
   ]
  },
  {
   "cell_type": "code",
   "execution_count": 11,
   "id": "530a406b",
   "metadata": {},
   "outputs": [
    {
     "name": "stdout",
     "output_type": "stream",
     "text": [
      "ram    100\n",
      "som    101\n",
      "tom    102\n",
      "dtype: int64\n"
     ]
    }
   ],
   "source": [
    "import pandas as pd\n",
    "names={\"ram\":100,\"som\":101,\"tom\":102}\n",
    "mydata=pd.Series(names)\n",
    "print(mydata)"
   ]
  },
  {
   "cell_type": "code",
   "execution_count": null,
   "id": "84c5ebe4",
   "metadata": {},
   "outputs": [],
   "source": [
    "#With the index argument, you can name your own labels."
   ]
  },
  {
   "cell_type": "code",
   "execution_count": 16,
   "id": "df9d0934",
   "metadata": {},
   "outputs": [
    {
     "name": "stdout",
     "output_type": "stream",
     "text": [
      "ram    100\n",
      "som    101\n",
      "tom    102\n",
      "dtype: int64\n"
     ]
    }
   ],
   "source": [
    "import pandas as pd\n",
    "names={\"ram\":100,\"som\":101,\"tom\":102}\n",
    "mydata=pd.Series(names, index = [\"ram\",\"som\",\"tom\"])\n",
    "print(mydata)"
   ]
  },
  {
   "cell_type": "markdown",
   "id": "85bb8a83",
   "metadata": {},
   "source": [
    "# DataFrames:::::::::::::::::::::::::::::::::::::::::::::::::::::::::::::::::::\n",
    "# Data sets in Pandas are usually multi-dimensional tables, called DataFrames.\n",
    "# Series is like a column, a DataFrame is the whole table.\n",
    "\n"
   ]
  },
  {
   "cell_type": "code",
   "execution_count": 21,
   "id": "9eee5a04",
   "metadata": {},
   "outputs": [
    {
     "name": "stdout",
     "output_type": "stream",
     "text": [
      "  names  roolnum\n",
      "0   ram      100\n",
      "1   tom      101\n",
      "2   sam      102\n"
     ]
    }
   ],
   "source": [
    "import pandas as pd\n",
    "data={\n",
    "    \"names\":[\"ram\",\"tom\",\"sam\"],\n",
    "    \"roolnum\":[100,101,102]    \n",
    "}\n",
    "mydata=pd.DataFrame(data)\n",
    "print(mydata)"
   ]
  },
  {
   "cell_type": "code",
   "execution_count": 23,
   "id": "c91de60d",
   "metadata": {},
   "outputs": [
    {
     "name": "stdout",
     "output_type": "stream",
     "text": [
      "   snno team state\n",
      "0     1    a    ap\n",
      "1     2    b    ts\n",
      "2     3    c    tm\n"
     ]
    }
   ],
   "source": [
    "import pandas as pd\n",
    "datee={\n",
    "    \"snno\":[1,2,3],\n",
    "    \"team\":[\"a\",\"b\",\"c\"],\n",
    "    \"state\":[\"ap\",\"ts\",\"tm\"]\n",
    "}\n",
    "mydata=pd.DataFrame(datee)\n",
    "print(mydata)"
   ]
  },
  {
   "cell_type": "code",
   "execution_count": null,
   "id": "22ace736",
   "metadata": {},
   "outputs": [],
   "source": [
    "#NOTE::series is like a column ,a DataFrame is the whole table"
   ]
  }
 ],
 "metadata": {
  "kernelspec": {
   "display_name": "Python 3 (ipykernel)",
   "language": "python",
   "name": "python3"
  },
  "language_info": {
   "codemirror_mode": {
    "name": "ipython",
    "version": 3
   },
   "file_extension": ".py",
   "mimetype": "text/x-python",
   "name": "python",
   "nbconvert_exporter": "python",
   "pygments_lexer": "ipython3",
   "version": "3.10.1"
  }
 },
 "nbformat": 4,
 "nbformat_minor": 5
}
